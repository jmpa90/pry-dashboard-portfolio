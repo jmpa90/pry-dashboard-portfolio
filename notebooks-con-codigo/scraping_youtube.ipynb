{
 "cells": [
  {
   "cell_type": "markdown",
   "id": "94090731",
   "metadata": {},
   "source": [
    "<b style=\"font-size:40px;\">Web scraping de canales políticos</b><br><br>\n",
    "Este notebook automatiza la recopilación de datos de diferentes canales de YouTube, accediendo a varias pestañas como videos, shorts, streams, podcasts, playlists y publicaciones. Utiliza peticiones HTTP y técnicas de web scraping para guardar la información en archivos JSON organizados por canal y tipo de contenido. El flujo incluye la selección dinámica de agentes de usuario, manejo de rutas de almacenamiento y pausas aleatorias para evitar bloqueos por parte de la plataforma.\n"
   ]
  },
  {
   "cell_type": "code",
   "execution_count": null,
   "id": "86f2524b",
   "metadata": {},
   "outputs": [],
   "source": [
    "import json\n",
    "\n",
    "import requests\n",
    "import re\n",
    "import json\n",
    "import random\n",
    "\n",
    "from datetime import datetime\n",
    "import os\n",
    "\n",
    "import time\n",
    "from itertools import product\n",
    "from pathlib import Path\n"
   ]
  },
  {
   "cell_type": "code",
   "execution_count": null,
   "id": "248c84eb",
   "metadata": {},
   "outputs": [],
   "source": [
    "USER_AGENTS = [\n",
    "    \"Mozilla/5.0 (Windows NT 10.0; Win64; x64) AppleWebKit/537.36 (KHTML, like Gecko) Chrome/124.0.0.0 Safari/537.36\",\n",
    "    \"Mozilla/5.0 (Windows NT 10.0; Win64; x64) AppleWebKit/537.36 (KHTML, like Gecko) Chrome/123.0.0.0 Safari/537.36\",\n",
    "    \"Mozilla/5.0 (Macintosh; Intel Mac OS X 13_3) AppleWebKit/537.36 (KHTML, like Gecko) Chrome/124.0.0.0 Safari/537.36\",\n",
    "    \"Mozilla/5.0 (Windows NT 10.0; Win64; x64; rv:125.0) Gecko/20100101 Firefox/125.0\",\n",
    "    \"Mozilla/5.0 (Macintosh; Intel Mac OS X 13_3) AppleWebKit/605.1.15 (KHTML, like Gecko) Version/16.3 Safari/605.1.15\",\n",
    "    \"Mozilla/5.0 (Windows NT 10.0; Win64; x64) AppleWebKit/537.36 (KHTML, like Gecko) Chrome/124.0.0.0 Safari/537.36 Edg/124.0.0.0\",\n",
    "]\n",
    "\n",
    "CHANNELS = [\n",
    "    'turnoenvivo',\n",
    "    'delosquesobran',\n",
    "    'SINFILTROSTV',\n",
    "    'FNM_Chile',\n",
    "    'politika_chilena_2025',\n",
    "    'ChileanPolitics',\n",
    "    'ElVillegaschile',\n",
    "    'CanalElCiudadano',\n",
    "    'Lamanoinvisible1723'\n",
    "]\n",
    "\n",
    "TABS = [\n",
    "    'featured',\n",
    "    'videos',\n",
    "    'shorts',\n",
    "    'streams',\n",
    "    'podcasts',\n",
    "    'playlists',\n",
    "    'posts'\n",
    "]"
   ]
  },
  {
   "cell_type": "code",
   "execution_count": 183,
   "id": "71b8a836",
   "metadata": {},
   "outputs": [],
   "source": [
    "def get_data_from_video_tab(canal, tab='videos'):\n",
    "\n",
    "    url = f\"https://www.youtube.com/@{canal}/{tab}\"\n",
    "    \n",
    "    headers = {\n",
    "        \"User-Agent\": random.choice(USER_AGENTS),\n",
    "        \"Accept-Language\": \"es-ES,es;q=0.9\",\n",
    "        \"Accept\": \"text/html,application/xhtml+xml,application/xml;q=0.9,image/webp,*/*;q=0.8\",\n",
    "        \"Cache-Control\": \"no-cache\",\n",
    "        \"Pragma\": \"no-cache\",\n",
    "        \"Connection\": \"keep-alive\",\n",
    "    }\n",
    "\n",
    "    r = requests.get(url, headers=headers)\n",
    "    html = r.text\n",
    "\n",
    "    pattern = r\"var ytInitialData = ({.*?});</script>\"\n",
    "    match = re.search(pattern, html, re.DOTALL)\n",
    "\n",
    "    json_text = match.group(1)\n",
    "    return json.loads(json_text)\n"
   ]
  },
  {
   "cell_type": "code",
   "execution_count": 5,
   "id": "92db184b",
   "metadata": {},
   "outputs": [],
   "source": [
    "if os.getenv(\"GITHUB_ACTIONS\") == \"true\":\n",
    "    base_path = Path(\"\")\n",
    "else:\n",
    "    base_path = Path(\"..\")"
   ]
  },
  {
   "cell_type": "code",
   "execution_count": null,
   "id": "8b5c82bb",
   "metadata": {},
   "outputs": [
    {
     "name": "stdout",
     "output_type": "stream",
     "text": [
      "JSON exportado en: ..\\data-scraped\\channels\\turnoenvivo\\tab-featured\\250711_210722.json\n",
      "JSON exportado en: ..\\data-scraped\\channels\\turnoenvivo\\tab-videos\\250711_210724.json\n",
      "JSON exportado en: ..\\data-scraped\\channels\\turnoenvivo\\tab-shorts\\250711_210727.json\n",
      "JSON exportado en: ..\\data-scraped\\channels\\turnoenvivo\\tab-streams\\250711_210730.json\n",
      "JSON exportado en: ..\\data-scraped\\channels\\turnoenvivo\\tab-podcasts\\250711_210734.json\n",
      "JSON exportado en: ..\\data-scraped\\channels\\turnoenvivo\\tab-playlists\\250711_210736.json\n",
      "JSON exportado en: ..\\data-scraped\\channels\\turnoenvivo\\tab-posts\\250711_210739.json\n",
      "JSON exportado en: ..\\data-scraped\\channels\\delosquesobran\\tab-featured\\250711_210741.json\n",
      "JSON exportado en: ..\\data-scraped\\channels\\delosquesobran\\tab-videos\\250711_210745.json\n",
      "JSON exportado en: ..\\data-scraped\\channels\\delosquesobran\\tab-shorts\\250711_210748.json\n",
      "JSON exportado en: ..\\data-scraped\\channels\\delosquesobran\\tab-streams\\250711_210752.json\n",
      "JSON exportado en: ..\\data-scraped\\channels\\delosquesobran\\tab-podcasts\\250711_210753.json\n",
      "JSON exportado en: ..\\data-scraped\\channels\\delosquesobran\\tab-playlists\\250711_210755.json\n",
      "JSON exportado en: ..\\data-scraped\\channels\\delosquesobran\\tab-posts\\250711_210758.json\n",
      "JSON exportado en: ..\\data-scraped\\channels\\sinfiltrostv\\tab-featured\\250711_210801.json\n",
      "JSON exportado en: ..\\data-scraped\\channels\\sinfiltrostv\\tab-videos\\250711_210803.json\n",
      "JSON exportado en: ..\\data-scraped\\channels\\sinfiltrostv\\tab-shorts\\250711_210807.json\n",
      "JSON exportado en: ..\\data-scraped\\channels\\sinfiltrostv\\tab-streams\\250711_210809.json\n",
      "JSON exportado en: ..\\data-scraped\\channels\\sinfiltrostv\\tab-podcasts\\250711_210811.json\n",
      "JSON exportado en: ..\\data-scraped\\channels\\sinfiltrostv\\tab-playlists\\250711_210814.json\n"
     ]
    }
   ],
   "source": [
    "for _channel, _tab in list(product(CHANNELS, TABS)):\n",
    "    \n",
    "    data = get_data_from_video_tab(_channel, _tab)\n",
    "\n",
    "    folder = base_path / \"data-scraped\" / \"channels\" / _channel.lower() / f\"tab-{_tab}\"    \n",
    "    os.makedirs(folder, exist_ok=True)\n",
    "    \n",
    "    now = datetime.now()\n",
    "    file_name = os.path.join(folder, f\"{now.strftime('%y%m%d_%H%M%S')}.json\")\n",
    "    print(\"JSON exportado en:\", file_name)\n",
    "\n",
    "    with open(file_name, 'w', encoding='utf-8') as file:\n",
    "        json.dump(data, file, ensure_ascii=False, indent=4)\n",
    "\n",
    "    time.sleep(random.uniform(1.5, 4.0))\n"
   ]
  }
 ],
 "metadata": {
  "kernelspec": {
   "display_name": "venv",
   "language": "python",
   "name": "python3"
  },
  "language_info": {
   "codemirror_mode": {
    "name": "ipython",
    "version": 3
   },
   "file_extension": ".py",
   "mimetype": "text/x-python",
   "name": "python",
   "nbconvert_exporter": "python",
   "pygments_lexer": "ipython3",
   "version": "3.11.0"
  }
 },
 "nbformat": 4,
 "nbformat_minor": 5
}
